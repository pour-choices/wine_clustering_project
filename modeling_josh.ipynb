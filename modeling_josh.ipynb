{
 "cells": [
  {
   "cell_type": "code",
   "execution_count": 1,
   "id": "85d9d16b-977b-4f09-b53c-e305eba3188e",
   "metadata": {},
   "outputs": [],
   "source": [
    "#Importing required packages and files\n",
    "import pandas as pd\n",
    "import numpy as np\n",
    "from scipy import stats\n",
    "import matplotlib.pyplot as plt\n",
    "import seaborn as sns\n",
    "import os\n",
    "import ds_fun\n",
    "\n",
    "#These imports were constructed\n",
    "\n",
    "#Tools to build machine learning models and reports\n",
    "from sklearn.model_selection import train_test_split\n",
    "import sklearn.preprocessing\n",
    "from sklearn.metrics import mean_squared_error\n",
    "from sklearn.cluster import KMeans\n",
    "from sklearn.preprocessing import PolynomialFeatures\n",
    "from sklearn.linear_model import LinearRegression, LassoLars, TweedieRegressor\n",
    "\n",
    "#Removes warnings and imporves asthenics\n",
    "import warnings\n",
    "#warnings.filterwarnings(\"ignore\")\n",
    "\n",
    "#Sets an option to show all columns\n",
    "pd.options.display.max_columns = None\n",
    "pd.options.display.width = 100\n",
    "pd.options.display.max_colwidth = None\n",
    "pd.options.display.max_rows = 200"
   ]
  },
  {
   "cell_type": "markdown",
   "id": "f47087e9-97d1-48c0-9e98-c4b94c714fb0",
   "metadata": {},
   "source": [
    "Acquire:"
   ]
  },
  {
   "cell_type": "code",
   "execution_count": 2,
   "id": "2477c3f8-508b-46a4-b531-82b4f2449515",
   "metadata": {},
   "outputs": [],
   "source": [
    "wine_df = ds_fun.pour_wine()"
   ]
  },
  {
   "cell_type": "markdown",
   "id": "ef43f523-5c22-4431-90bb-687612b34075",
   "metadata": {},
   "source": [
    "Prepare:"
   ]
  },
  {
   "cell_type": "code",
   "execution_count": 3,
   "id": "f15c5a93-b51f-4790-ba11-244243db8c9a",
   "metadata": {},
   "outputs": [],
   "source": [
    "train, val, test = ds_fun.train_validate(wine_df, random_seed=1969)"
   ]
  },
  {
   "cell_type": "code",
   "execution_count": 4,
   "id": "454c73b7-cdf5-4295-bb66-093506254889",
   "metadata": {},
   "outputs": [],
   "source": [
    "cont_columns = ['fixed acidity', 'volatile acidity', 'citric acid', 'residual sugar', 'chlorides',\n",
    "       'free sulfur dioxide', 'total sulfur dioxide', 'density', 'pH', 'sulphates', 'alcohol']"
   ]
  },
  {
   "cell_type": "code",
   "execution_count": 5,
   "id": "e9263c30-7155-48fb-a7a9-9db6b0123576",
   "metadata": {},
   "outputs": [],
   "source": [
    "train, val, test = ds_fun.scale_cont_columns(train, val, test , cont_columns, scaler_model = 1)"
   ]
  },
  {
   "cell_type": "code",
   "execution_count": 6,
   "id": "9c0f3d55-5149-4ac6-b6b4-3148b9823051",
   "metadata": {},
   "outputs": [],
   "source": [
    "qual_class = [0,5,7,9]\n",
    "qual_bins = ['low', 'med', 'high']"
   ]
  },
  {
   "cell_type": "code",
   "execution_count": 7,
   "id": "879cdf42-eb63-41d0-a64c-269ead6107e9",
   "metadata": {},
   "outputs": [],
   "source": [
    "#train = pd.cut(qual_class, qual_bins)"
   ]
  },
  {
   "cell_type": "markdown",
   "id": "bd89ca92-3375-4461-b1c6-c17e88f8fe5d",
   "metadata": {},
   "source": [
    "Engineer:"
   ]
  },
  {
   "cell_type": "code",
   "execution_count": 8,
   "id": "9a38e8c6-f803-43d3-98fd-16352f1f8fe6",
   "metadata": {},
   "outputs": [],
   "source": [
    "cluster_list = [ 'density', 'volatile acidity', 'chlorides', 'alcohol']"
   ]
  },
  {
   "cell_type": "code",
   "execution_count": 9,
   "id": "19e66dea-37a9-4181-92ee-d5ac5ff685d1",
   "metadata": {},
   "outputs": [],
   "source": [
    "cluster_list0 = [ 'density', 'volatile acidity']"
   ]
  },
  {
   "cell_type": "code",
   "execution_count": 10,
   "id": "e2c504af-90d1-4a5e-ba40-ea6420aba85c",
   "metadata": {},
   "outputs": [],
   "source": [
    "cluster_list1 = [ 'density', 'chlorides']"
   ]
  },
  {
   "cell_type": "code",
   "execution_count": 11,
   "id": "53363465-3a77-459a-a95d-728dbdeb1b87",
   "metadata": {},
   "outputs": [],
   "source": [
    "cluster_list2 = [ 'density', 'alcohol']"
   ]
  },
  {
   "cell_type": "code",
   "execution_count": 12,
   "id": "6bb0f2de-283d-4902-a736-d29215eee75d",
   "metadata": {},
   "outputs": [],
   "source": [
    "cluster_list3 = [ 'volatile acidity', 'chlorides']"
   ]
  },
  {
   "cell_type": "code",
   "execution_count": 13,
   "id": "3dba5e04-9435-4701-b8a6-eebcd24fd7ab",
   "metadata": {},
   "outputs": [],
   "source": [
    "cluster_list4 = ['volatile acidity', 'alcohol']"
   ]
  },
  {
   "cell_type": "code",
   "execution_count": 14,
   "id": "3ff8805c-489f-4889-b5b0-e0066020c613",
   "metadata": {},
   "outputs": [],
   "source": [
    "cluster_list5 = ['chlorides', 'alcohol']"
   ]
  },
  {
   "cell_type": "code",
   "execution_count": 15,
   "id": "45c1a5fc-5e80-4032-a6b4-9097de957f34",
   "metadata": {},
   "outputs": [],
   "source": [
    "cluster_list6 = ['volatile acidity', 'chlorides', 'alcohol']"
   ]
  },
  {
   "cell_type": "code",
   "execution_count": 16,
   "id": "3aa46034-fbae-4312-9406-c5c0414a709f",
   "metadata": {},
   "outputs": [],
   "source": [
    "cluster_list7 = [ 'density', 'chlorides', 'alcohol']"
   ]
  },
  {
   "cell_type": "code",
   "execution_count": 17,
   "id": "1cc382cc-a04a-4a47-9dc8-07a27d16f9ca",
   "metadata": {},
   "outputs": [],
   "source": [
    "cluster_list8 = [ 'density', 'volatile acidity', 'alcohol']"
   ]
  },
  {
   "cell_type": "code",
   "execution_count": 18,
   "id": "81c674dd-37f7-4351-b6b4-31be552960d6",
   "metadata": {},
   "outputs": [],
   "source": [
    "cluster_list9 = [ 'density', 'volatile acidity', 'chlorides']"
   ]
  },
  {
   "cell_type": "code",
   "execution_count": 19,
   "id": "682663f1-55da-40ed-8c48-41085aa44fe7",
   "metadata": {},
   "outputs": [],
   "source": [
    "n_clusters = 2"
   ]
  },
  {
   "cell_type": "code",
   "execution_count": 20,
   "id": "ed2c193f-4c41-4280-be51-c70894bd6bb6",
   "metadata": {},
   "outputs": [],
   "source": [
    "n_clusters0 = 4"
   ]
  },
  {
   "cell_type": "code",
   "execution_count": 21,
   "id": "d286eaaf-1595-4259-91ef-db90d1c9c8e5",
   "metadata": {},
   "outputs": [],
   "source": [
    "n_clusters1 = 2"
   ]
  },
  {
   "cell_type": "code",
   "execution_count": 22,
   "id": "3bf9153b-c777-42fb-aaf9-b24e5b9a25b6",
   "metadata": {},
   "outputs": [],
   "source": [
    "n_clusters2 = 2"
   ]
  },
  {
   "cell_type": "code",
   "execution_count": 23,
   "id": "c0554f7f-3d7d-4217-b932-37f059181f1c",
   "metadata": {},
   "outputs": [],
   "source": [
    "n_clusters3 = 2"
   ]
  },
  {
   "cell_type": "code",
   "execution_count": 24,
   "id": "c5decd8d-dc26-46e6-bb4c-1e552ed2a1c6",
   "metadata": {},
   "outputs": [],
   "source": [
    "n_clusters4 = 4"
   ]
  },
  {
   "cell_type": "code",
   "execution_count": 25,
   "id": "815df178-d10e-4e4d-9efb-eb67e5667942",
   "metadata": {},
   "outputs": [],
   "source": [
    "n_clusters5 = 2"
   ]
  },
  {
   "cell_type": "code",
   "execution_count": 26,
   "id": "74cff8fa-f010-4aa5-9859-f4da8bd3164d",
   "metadata": {},
   "outputs": [],
   "source": [
    "n_clusters6 = 4"
   ]
  },
  {
   "cell_type": "code",
   "execution_count": 27,
   "id": "6a66916b-b1ea-4f42-b079-9c3eb22eced1",
   "metadata": {},
   "outputs": [],
   "source": [
    "n_clusters7 = 2"
   ]
  },
  {
   "cell_type": "code",
   "execution_count": 28,
   "id": "eb6258d7-6dd8-4198-8eeb-ce3b99209006",
   "metadata": {},
   "outputs": [],
   "source": [
    "n_clusters8 = 2"
   ]
  },
  {
   "cell_type": "code",
   "execution_count": 29,
   "id": "55cceee2-19e0-4635-ab7a-95cb898ea797",
   "metadata": {},
   "outputs": [],
   "source": [
    "n_clusters9 = 3"
   ]
  },
  {
   "cell_type": "code",
   "execution_count": 30,
   "id": "1b1b5384-a6d1-41be-a420-4ea7367a3f8b",
   "metadata": {},
   "outputs": [],
   "source": [
    "#ds_fun.elbow_method(train, cluster_list)"
   ]
  },
  {
   "cell_type": "code",
   "execution_count": 31,
   "id": "679401aa-e441-4289-8b0e-d4f0e67d9091",
   "metadata": {},
   "outputs": [],
   "source": [
    "\n",
    "def testing_clusters(train, val, test, cluster_list, n_clusters = 2):\n",
    "    #Builds the cluster object with the desired number of clusters\n",
    "    kmeans = KMeans(n_clusters=n_clusters)\n",
    "    kmeans.fit(train[cluster_list])\n",
    "\n",
    "    #Builds a column with the cluster numbers\n",
    "    train['cluster_preds'] = kmeans.predict(train[cluster_list])\n",
    "    val['cluster_preds'] = kmeans.predict(val[cluster_list])\n",
    "    test['cluster_preds'] = kmeans.predict(test[cluster_list])\n",
    "\n",
    "\n",
    "    train.drop(columns=cluster_list, inplace = True)\n",
    "    val.drop(columns=cluster_list, inplace = True) \n",
    "    test.drop(columns=cluster_list, inplace = True) \n",
    "          \n",
    "    dumb_list = ['type', 'cluster_preds']\n",
    "\n",
    "    \n",
    "    train = pd.get_dummies(train, columns = dumb_list)\n",
    "\n",
    "    val = pd.get_dummies(val, columns = dumb_list)\n",
    "\n",
    "    test = pd.get_dummies(test, columns = dumb_list)\n",
    "\n",
    "    return train, val, test"
   ]
  },
  {
   "cell_type": "code",
   "execution_count": 32,
   "id": "25e05acc-296a-41bc-ad4e-34a925be26e3",
   "metadata": {},
   "outputs": [],
   "source": [
    "#train, val, test = testing_clusters(train, val, test, cluster_list, n_clusters = n_clusters)"
   ]
  },
  {
   "cell_type": "markdown",
   "id": "51934610-03a6-4841-a08c-ee2f0595aa3b",
   "metadata": {},
   "source": [
    "kmeans = KMeans(n_clusters=n_clusters)\n",
    "kmeans.fit(train[cluster_list])\n",
    "\n",
    "#Builds a column with the cluster numbers\n",
    "train['cluster_preds'] = kmeans.predict(train[cluster_list])"
   ]
  },
  {
   "cell_type": "markdown",
   "id": "26b9ea97-9c00-4318-90e3-e5dcf7525a6b",
   "metadata": {},
   "source": [
    "pd.get_dummies(train,columns=['type', 'cluster_preds'])"
   ]
  },
  {
   "cell_type": "markdown",
   "id": "6fbb6e6f-28db-4ebe-88fb-5738e96da3af",
   "metadata": {},
   "source": [
    "dummy_df = pd.get_dummies(train[['cluster_preds', 'type']])\n",
    "dummy_df.head()"
   ]
  },
  {
   "cell_type": "code",
   "execution_count": 33,
   "id": "16b9900c-264f-4f0e-93ba-0dbd77bdbb6b",
   "metadata": {},
   "outputs": [],
   "source": [
    "train = pd.get_dummies(train, columns=['type'])\n",
    "val = pd.get_dummies(val, columns=['type'])\n",
    "test = pd.get_dummies(test, columns=['type'])"
   ]
  },
  {
   "cell_type": "code",
   "execution_count": null,
   "id": "3cf5acd2-7ce2-4448-b19d-163c800d6d40",
   "metadata": {},
   "outputs": [],
   "source": []
  },
  {
   "cell_type": "code",
   "execution_count": 34,
   "id": "b9d8352d-c383-4b76-be7e-07e2f6623c51",
   "metadata": {},
   "outputs": [],
   "source": [
    "target_col = 'quality'"
   ]
  },
  {
   "cell_type": "code",
   "execution_count": 35,
   "id": "3b224801-4843-4059-92ae-ff73f4f46948",
   "metadata": {},
   "outputs": [],
   "source": [
    "X_train, y_train, X_val, y_val, X_test, y_test = ds_fun.train_val_test(train, val, test, target_col)"
   ]
  },
  {
   "cell_type": "code",
   "execution_count": 36,
   "id": "a5414f44-6a8b-4249-b92f-1fa8b26e411e",
   "metadata": {},
   "outputs": [
    {
     "name": "stdout",
     "output_type": "stream",
     "text": [
      "Using RMSE Mean training baseline: 0.8640\n"
     ]
    }
   ],
   "source": [
    "baseline = ds_fun.find_regression_baseline(y_train)"
   ]
  },
  {
   "cell_type": "code",
   "execution_count": 37,
   "id": "0cf4a6ee-6d5b-4f64-821e-e608619975d8",
   "metadata": {},
   "outputs": [
    {
     "name": "stdout",
     "output_type": "stream",
     "text": [
      "5.817190506735087\n",
      "6.0\n",
      "Using RMSE Median training baseline: 0.8832\n",
      "Using RMSE Mean training baseline: 0.8640\n",
      "0.8640415848996251\n"
     ]
    }
   ],
   "source": [
    "\"\"\"\n",
    "This function shows a comparison in baselines for mean and median.\n",
    "Output is the RMSE error when using both mean and median.\n",
    "\"\"\"\n",
    "\n",
    "# Train set\n",
    "bl_df = pd.DataFrame({'actual':y_train, 'mean_bl':y_train.mean(), 'median_bl':y_train.median()})\n",
    "print(y_train.mean())\n",
    "print(y_train.median())\n",
    "\n",
    "rmse_train_mean = mean_squared_error(bl_df['actual'], bl_df['mean_bl'], squared=False)\n",
    "rmse_train_median = mean_squared_error(bl_df['actual'], bl_df['median_bl'], squared=False)\n",
    "\n",
    "\n",
    "#if min(rmse_train_mean, rmse_train_median) == rmse_train_median:\n",
    "print(f'Using RMSE Median training baseline: {round(rmse_train_median,4):,.4f}')\n",
    "#elif min(rmse_train_mean, rmse_train_median) == rmse_train_mean:\n",
    "print(f'Using RMSE Mean training baseline: {round(rmse_train_mean,4):,.4f}')\n",
    "\n",
    "print(min(rmse_train_mean, rmse_train_median))"
   ]
  },
  {
   "cell_type": "code",
   "execution_count": null,
   "id": "c7c58a3c-ad46-4a85-b3c8-7dc55fd5bac3",
   "metadata": {},
   "outputs": [],
   "source": []
  },
  {
   "cell_type": "code",
   "execution_count": null,
   "id": "24786588-5cb9-470d-94d4-1fb649347353",
   "metadata": {},
   "outputs": [],
   "source": []
  },
  {
   "cell_type": "code",
   "execution_count": 38,
   "id": "90079568-9c38-4cee-84a0-6dcc0423df8d",
   "metadata": {},
   "outputs": [],
   "source": [
    "#List for gathering metrics\n",
    "rmse_scores = []\n",
    "\n",
    "\n",
    "\"\"\" *** Builds and fits Linear Regression Model (OLS) *** \"\"\"\n",
    "\n",
    "\n",
    "lm = LinearRegression(normalize=True, positive=True)\n",
    "lm.fit(X_train, y_train)\n",
    "\n",
    "#Train data\n",
    "lm_preds = pd.DataFrame({'actual':y_train})\n",
    "lm_preds['pred_lm'] = lm.predict(X_train)\n",
    "\n",
    "#Validate data\n",
    "lm_val_preds = pd.DataFrame({'actual':y_val})\n",
    "lm_val_preds['lm_val_preds'] = lm.predict(X_val)\n",
    "\n",
    "#Finds score on Train and Validate data\n",
    "rmse_train = mean_squared_error(lm_preds['actual'],\n",
    "                                lm_preds['pred_lm'],\n",
    "                                squared=False) \n",
    "rmse_val = mean_squared_error(lm_val_preds['actual'],\n",
    "                              lm_val_preds['lm_val_preds'],\n",
    "                              squared=False) \n",
    "\n",
    "#Adds score to metrics list for later comparison\n",
    "rmse_scores.append({'Model':'OLS Linear',\n",
    "                'RMSE on Train': round(rmse_train,4),\n",
    "                'RMSE on Validate': round(rmse_val,4)})"
   ]
  },
  {
   "cell_type": "code",
   "execution_count": 39,
   "id": "894cb797-dd17-49e8-98dd-89da63500fe9",
   "metadata": {},
   "outputs": [],
   "source": [
    "\"\"\" *** Builds and fits Lasso Lars Model *** \"\"\"\n",
    "\n",
    "\n",
    "lars = LassoLars(alpha=.25, max_iter=1000) #\n",
    "lars.fit(X_train, y_train)\n",
    "\n",
    "#Train data\n",
    "ll_preds = pd.DataFrame({'actual':y_train})\n",
    "ll_preds['pred_ll'] = lars.predict(X_train)\n",
    "\n",
    "#Validate data\n",
    "ll_val_preds = pd.DataFrame({'actual':y_val})\n",
    "ll_val_preds['ll_val_preds'] = lars.predict(X_val)\n",
    "\n",
    "#Finds score on Train and Validate data\n",
    "rmse_train = mean_squared_error(ll_preds['actual'],\n",
    "                                ll_preds['pred_ll'],\n",
    "                                squared=False)\n",
    "rmse_val = mean_squared_error(ll_val_preds['actual'],\n",
    "                              ll_val_preds['ll_val_preds'],\n",
    "                              squared=False)\n",
    "\n",
    "#Adds score to metrics list for later comparison\n",
    "rmse_scores.append({'Model':'Lasso Lars',\n",
    "                'RMSE on Train': round(rmse_train,4),\n",
    "                'RMSE on Validate': round(rmse_val,4)})"
   ]
  },
  {
   "cell_type": "code",
   "execution_count": 40,
   "id": "b19f5041-01d8-4c0e-90aa-8cb72decf769",
   "metadata": {},
   "outputs": [],
   "source": [
    "\"\"\" *** Builds and fits Tweedie Regressor (GLM) Model *** \"\"\"\n",
    "\n",
    "glm = TweedieRegressor(power=1, alpha=1)    \n",
    "glm.fit(X_train, y_train)\n",
    "\n",
    "#Train data\n",
    "glm_preds = pd.DataFrame({'actual':y_train})\n",
    "glm_preds['pred_glm'] = glm.predict(X_train)\n",
    "\n",
    "#Validate data\n",
    "glm_val_preds = pd.DataFrame({'actual':y_val})\n",
    "glm_val_preds['glm_val_preds'] = glm.predict(X_val)\n",
    "\n",
    "#Finds score on Train and Validate data\n",
    "rmse_train = mean_squared_error(glm_preds['actual'],\n",
    "                                glm_preds['pred_glm'],\n",
    "                                squared=False) \n",
    "rmse_val = mean_squared_error(glm_val_preds['actual'],\n",
    "                              glm_val_preds['glm_val_preds'],\n",
    "                              squared=False)\n",
    "\n",
    "#Adds score to metrics list for later comparison\n",
    "rmse_scores.append({'Model':'Tweedie',\n",
    "                    'RMSE on Train': round(rmse_train,4),\n",
    "                    'RMSE on Validate': round(rmse_val,4)})"
   ]
  },
  {
   "cell_type": "code",
   "execution_count": 41,
   "id": "6a158a02-5eb3-47eb-869b-79acf292fc2b",
   "metadata": {},
   "outputs": [],
   "source": [
    "\"\"\" *** Builds and fits Polynomial regression Model *** \"\"\"\n",
    "\n",
    "\n",
    "#Polynomial Regression part:\n",
    "# make the polynomial features to get a new set of features\n",
    "pf = PolynomialFeatures(degree=1)\n",
    "\n",
    "# fit and transform X_train_scaled\n",
    "X_train_degree2 = pf.fit_transform(X_train)\n",
    "\n",
    "# transform X_validate_scaled & X_test_scaled\n",
    "X_validate_degree2 = pf.transform(X_val)\n",
    "#X_test_degree2 = pf.transform(X_test)\n",
    "\n",
    "#Polynomial Regression being fed into Linear Regression:\n",
    "lm2 = LinearRegression(normalize=True)\n",
    "lm2.fit(X_train_degree2, y_train)\n",
    "\n",
    "#Train data\n",
    "lm2_preds = pd.DataFrame({'actual':y_train})\n",
    "lm2_preds['pred_lm2'] = lm2.predict(X_train_degree2)\n",
    "\n",
    "#Validate data\n",
    "lm2_val_preds = pd.DataFrame({'actual':y_val})\n",
    "lm2_val_preds['lm2_val_preds'] = lm2.predict(X_validate_degree2)\n",
    "\n",
    "#Finds score on Train and Validate data\n",
    "rmse_train = mean_squared_error(lm2_preds['actual'],\n",
    "                                lm2_preds['pred_lm2'],\n",
    "                                squared=False) \n",
    "rmse_val = mean_squared_error(lm2_val_preds['actual'],\n",
    "                              lm2_val_preds['lm2_val_preds'],\n",
    "                              squared=False)\n",
    "\n",
    "#Adds score to metrics list for later comparison\n",
    "rmse_scores.append({'Model':'Polynomial',\n",
    "                    'RMSE on Train': round(rmse_train,4),\n",
    "                    'RMSE on Validate': round(rmse_val,4)})"
   ]
  },
  {
   "cell_type": "code",
   "execution_count": 42,
   "id": "c013e09b-4a7c-4098-b854-764ebb139f37",
   "metadata": {},
   "outputs": [
    {
     "name": "stdout",
     "output_type": "stream",
     "text": [
      "        Model  RMSE on Train  RMSE on Validate  Difference\n",
      "0  OLS Linear         0.7130            0.7511       -0.04\n",
      "1  Lasso Lars         0.8640            0.8876       -0.02\n",
      "2     Tweedie         0.8182            0.8406       -0.02\n",
      "3  Polynomial         0.7130            0.7511       -0.04\n"
     ]
    }
   ],
   "source": [
    "\"\"\" *** Later comparison section to display results *** \"\"\"\n",
    "\n",
    "#Builds and displays results DataFrame\n",
    "rmse_scores = pd.DataFrame(rmse_scores)\n",
    "rmse_scores['Difference'] = round(rmse_scores['RMSE on Train'] - rmse_scores['RMSE on Validate'],2)    \n",
    "\n",
    "#Results were too close so had to look at the numbers\n",
    "print(rmse_scores)\n",
    "\n",
    "#Building variables for plotting\n",
    "rmse_min = min([rmse_scores['RMSE on Train'].min(),\n",
    "                rmse_scores['RMSE on Validate'].min(), baseline])\n",
    "rmse_max = max([rmse_scores['RMSE on Train'].max(),\n",
    "                rmse_scores['RMSE on Validate'].max(), baseline])\n",
    "\n",
    "lower_limit = rmse_min * 0.8\n",
    "upper_limit = rmse_max * 1.05"
   ]
  },
  {
   "cell_type": "code",
   "execution_count": 43,
   "id": "a85dba30-7b06-4083-8206-28902c67b2a0",
   "metadata": {},
   "outputs": [
    {
     "data": {
      "image/png": "[encoded data removed]",
      "text/plain": [
       "<Figure size 640x480 with 1 Axes>"
      ]
     },
     "metadata": {},
     "output_type": "display_data"
    }
   ],
   "source": [
    "x = np.arange(len(rmse_scores))  # the label locations\n",
    "width = 0.25  # the width of the bars\n",
    "\n",
    "fig, ax = plt.subplots(facecolor=\"gainsboro\")\n",
    "rects1 = ax.bar(x - width/2, rmse_scores['RMSE on Train'],\n",
    "                width, label='Training data', color='#4e5e33',\n",
    "                edgecolor='dimgray') #Codeup dark green\n",
    "rects2 = ax.bar(x + width/2, rmse_scores['RMSE on Validate'],\n",
    "                width, label='Validation data', color='#8bc34b',\n",
    "                edgecolor='dimgray') #Codeup light green\n",
    "\n",
    "# Need to have baseline input:\n",
    "plt.axhline(baseline, label=\"Baseline Error\", c='tomato', linestyle=':')\n",
    "\n",
    "# Add some text for labels, title and custom x-axis tick labels, etc.\n",
    "ax.axhspan(0, baseline, facecolor='palegreen', alpha=0.2)\n",
    "ax.axhspan(baseline, upper_limit, facecolor='red', alpha=0.3)\n",
    "ax.set_ylabel('RMS Error')\n",
    "ax.set_xlabel('Machine Learning Models')\n",
    "ax.set_title('Model Error Scores')\n",
    "ax.set_xticks(x, rmse_scores['Model'])\n",
    "\n",
    "plt.ylim(bottom=lower_limit, top = upper_limit)\n",
    "\n",
    "ax.legend(loc='upper right', framealpha=.9, facecolor=\"whitesmoke\",\n",
    "          edgecolor='darkolivegreen')\n",
    "\n",
    "#ax.bar_label(rects1, padding=4)\n",
    "#ax.bar_label(rects2, padding=4)\n",
    "fig.tight_layout()\n",
    "#plt.savefig('best_model_all_features.png')\n",
    "plt.show()"
   ]
  }
 ],
 "metadata": {
  "kernelspec": {
   "display_name": "Python 3 (ipykernel)",
   "language": "python",
   "name": "python3"
  },
  "language_info": {
   "codemirror_mode": {
    "name": "ipython",
    "version": 3
   },
   "file_extension": ".py",
   "mimetype": "text/x-python",
   "name": "python",
   "nbconvert_exporter": "python",
   "pygments_lexer": "ipython3",
   "version": "3.9.15"
  }
 },
 "nbformat": 4,
 "nbformat_minor": 5
}

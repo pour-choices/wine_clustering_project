{
 "cells": [
  {
   "attachments": {},
   "cell_type": "markdown",
   "id": "frank-castle",
   "metadata": {},
   "source": [
    "# README\n",
    "\n",
    "\n",
    "* **Title**: Pour Choices\n",
    "\n",
    "* **Project Description**: Our project is to use statistical analysis and machine learning to find the relationships between various wine chemicals to determine an approximate quality rating. \n",
    "* **Project Goal**: Our goal is to find features which affect quality, analyize how they affect quality and develop a machine learning model to determine a quality rating.\n",
    "* **Initial Hypotheses**: Chemical features will provide enough information to determine a quality score for each wine observation.\n",
    "* **Project Plan**: Acquire the two csv files, combine and cache them. Perform initial exploration to determine the number and extent of null values. Find data types. See ranges of data available. Then split the data into train, validate and test sets for model integrity and explore the training set to find relationships. Perform statistical testing to find if a relationship exists and the strength of correlation. Use clustings for exploration and modeling to see if it improves performance. Establish a baseline value to beat. Select a final model and run it on the test data set.\n",
    "\n",
    "#### **Data Dictionary** \n",
    "\n",
    "| Feature |\tDefinition |\n",
    "|:--------|:-----------|\n",
    "|quality| Target column. A wine rating from an unknown source which ranges from 3 to 9 in the dataset.|\n",
    "|alcohol| The ratio of ethonal to water in the wine. Unit is alcohol by volume or 'ABV'.|\n",
    "|density| Measured in grams/milliliter. Used to help determine alcohol content.|\n",
    "|pH| A measure of how acidic/basic the liquid is. The range is 0 to 14. 7 is neutral. Less than 7 is acidic and greater than 7 indicates a base.|\n",
    "|fixed acidity| Acids left after a steam distillation test. Measured in g/L.|\n",
    "|volatile acidity| Acids which can be removed by steam distillation. Measured in g/L.|\n",
    "|citric acid| Most commonly used as an acid supplement during the fermentation process to help winemakers boost the acidity|\n",
    "|residual sugar| Natural grape sugars left in a wine after the alcoholic fermentation finishes. Usually measured in grams per litre (g/L).|\n",
    "|chlorides| The amount of salt in the wine.|\n",
    "|total sulfur dioxide| The portion of SO2 that is free in the wine plus the portion that is bound to other chemicals.|\n",
    "|free sulfur dioxide| SO2 that is present in wine but has not yet reacted with other chemicals.|\n",
    "|sulphates| A combination of sulfur dioxide molecules and sulfite ions|\n",
    "|type| Indicates if the wine is classified as a red or white. |\n",
    "\n",
    "#### **Steps to Reproduce** \n",
    "1. Install necessary python packages.\n",
    "2. Clone the wine_clustering_project repository.\n",
    "3. Download the red and white wine csv files from https://data.world/food/wine-quality\n",
    "4. Unzip and store the red and white wine csv files in the wine_clustering_project folder.\n",
    "5. Ensure the acquire.py, prepare.py, explore.py and modeling.py files are in the same folder as the blind_tastings.ipynb notebook.\n",
    "6. Run the blind_tastings.ipynb notebook.\n"
   ]
  }
 ],
 "metadata": {
  "kernelspec": {
   "display_name": "Python 3 (ipykernel)",
   "language": "python",
   "name": "python3"
  },
  "language_info": {
   "codemirror_mode": {
    "name": "ipython",
    "version": 3
   },
   "file_extension": ".py",
   "mimetype": "text/x-python",
   "name": "python",
   "nbconvert_exporter": "python",
   "pygments_lexer": "ipython3",
   "version": "3.9.6"
  },
  "vscode": {
   "interpreter": {
    "hash": "31f2aee4e71d21fbe5cf8b01ff0e069b9275f58929596ceb00d14d90e3e16cd6"
   }
  }
 },
 "nbformat": 4,
 "nbformat_minor": 5
}

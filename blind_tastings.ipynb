{
 "cells": [
  {
   "attachments": {},
   "cell_type": "markdown",
   "metadata": {},
   "source": [
    "# Title Goes Here"
   ]
  },
  {
   "attachments": {},
   "cell_type": "markdown",
   "metadata": {},
   "source": [
    "#### Imports\n"
   ]
  },
  {
   "cell_type": "code",
   "execution_count": 2,
   "metadata": {},
   "outputs": [],
   "source": [
    "import pandas as pd\n",
    "import ds_fun as d"
   ]
  },
  {
   "attachments": {},
   "cell_type": "markdown",
   "metadata": {},
   "source": [
    "#### Acquire\n",
    "\n",
    "Add information about how, where and when you acquired your data\n",
    "How/where did you get your data?\n",
    "When did you get your data?\n",
    "What is the size of your data? (columns and rows)\n",
    "What does each observation represent?\n",
    "What does each column represent?\n",
    "Import acquired messy data from your acquire file here\n"
   ]
  },
  {
   "attachments": {},
   "cell_type": "markdown",
   "metadata": {},
   "source": [
    "#### Prepare\n",
    "\n",
    "List steps taken to clean your data here\n",
    "In particular call out how you handle null values and outliers in detail\n",
    "You must do this even if you do not do anything or do not encounter any\n",
    "Any time there is potential to make changes to the data you must be upfront about the changes you make or do not make\n",
    "Import your prepare function and use it to clean your data here\n"
   ]
  },
  {
   "attachments": {},
   "cell_type": "markdown",
   "metadata": {},
   "source": [
    "#### Explore\n",
    "\n",
    "Here you will explore your data then highlight 4 questions that you asked of the data and how those questions influenced your analysis\n",
    "- Remember to split your data before exploring how different variables relate to one another\n",
    "- Each question should be stated directly\n",
    "- Each question should be supported by a visualization\n",
    "- Each question should be answered in natural language\n",
    "- Two questions must be supported by a statistical test, but you may choose to support more than two\n",
    "- See the following example, and read the comments in the next cell\n",
    "- The following empty code block is here to represent the countless questions, visualizations, and statistical tests that did not make your final report. Data scientist often create a myriad of questions, visualizations and statistical tests that do not make it into the final notebook. This is okay and expected. Remember that shotgun approaches to your data such as using pair plots to look at the relationships of each feature are a great way to explore your data, but they have no place in your final report. Your final report is about showing and supporting your findings, not showing the work you did to get there!\n",
    "\n"
   ]
  },
  {
   "cell_type": "code",
   "execution_count": null,
   "metadata": {},
   "outputs": [],
   "source": []
  },
  {
   "attachments": {},
   "cell_type": "markdown",
   "metadata": {},
   "source": [
    "\n",
    "You may use this as a template for how to ask and answer each question:\n",
    "\n",
    "1) Question about the data\n",
    "Ask a question about the data for which you got a meaningful result\n",
    "There is no connection can be a meaningful result\n"
   ]
  },
  {
   "cell_type": "markdown",
   "metadata": {},
   "source": [
    "\n",
    "2) Visualization of the data answering the question\n",
    "Visualizations should be accompanied by take-aways telling the reader exactly what you want them to get from the chart\n",
    "You can include theses as bullet points under the chart\n",
    "Use your chart title to provide the main take-away from each visualization\n",
    "Each visualization should answer one, and only one, of the explore questions\n"
   ]
  },
  {
   "cell_type": "markdown",
   "metadata": {},
   "source": [
    "\n",
    "3) Statistical test\n",
    "Be sure you are using the correct statistical test for the type of variables you are testing\n",
    "Be sure that you are not violating any of the assumptions for the statistical test you are choosing\n",
    "Your notebook should run and produce the results of the test you are using (This may be done through imports)\n",
    "Include an introduction to the kind of test you are doing\n",
    "Include the Ho and Ha for the test\n",
    "Include the alpha you are using\n",
    "Include the readout of the p-value for the test\n",
    "Interpret the results of the test in natural language (I reject the null hypothesis is not sufficient)\n"
   ]
  },
  {
   "attachments": {},
   "cell_type": "markdown",
   "metadata": {},
   "source": [
    "\n",
    "4) Answer to the question\n",
    "Answer the question you posed of the data by referring to the chart and statistical test (if you used one)\n",
    "If the question relates to drivers, explain why the feature in question would/wouldn't make a good driver\n"
   ]
  },
  {
   "attachments": {},
   "cell_type": "markdown",
   "metadata": {},
   "source": [
    "#### Exploration Summary\n",
    "\n",
    "After your explore section, before you start modeling, provide a summary of your findings in Explore\n",
    "Include a summary of your take-aways\n",
    "Include a summary of the features you examined and weather or not you will be going to Modeling with each feature and why\n",
    "It is important to note which features will be going into your model so the reader knows what features you are using to model on\n"
   ]
  },
  {
   "attachments": {},
   "cell_type": "markdown",
   "metadata": {},
   "source": [
    "\n",
    "Modeling\n",
    "Introduction\n",
    "Explain how you will be evaluating your models\n",
    "Include the evaluation metric you will be using and why you have chosen it\n",
    "Create a baseline and briefly explain how it was calculated\n",
    "If you use code to generate your baseline run the code and generate the output here\n",
    "Printout should read:\n",
    "Baseline: \"number\" \"evaluation metric\"\n"
   ]
  },
  {
   "cell_type": "markdown",
   "metadata": {},
   "source": [
    "\n",
    "Best 3 Models\n",
    "\n",
    "Show the three best model results obtained using your selected features to predict the target variable\n",
    "Typically students will show the top models they are able to generate for three different model types\n",
    "You may use this as a template for how to introduce your models:\n",
    "Model Type\n",
    "Code that runs the best model in that model type goes here \n",
    "(This may be imported from a module)\n",
    "\n",
    "Printout of model code should read:\n",
    "\"Model Type\"\n",
    "\"evaluation metric\" on train: \"evaluation result\"\n",
    "\"evaluation metric\" on validate: \"evaluation result\"\n"
   ]
  },
  {
   "cell_type": "code",
   "execution_count": null,
   "metadata": {},
   "outputs": [],
   "source": []
  },
  {
   "cell_type": "code",
   "execution_count": null,
   "metadata": {},
   "outputs": [],
   "source": []
  },
  {
   "cell_type": "markdown",
   "metadata": {},
   "source": [
    "\n",
    "Test Model\n",
    "\n",
    "Choose the best model out of the three as you best model and explain why you have chosen it\n",
    "Explain that you will now run your final model on test data to gauge how it will perform on unseen data\n",
    "Code that runs the best overall model on test data (this may be imported from a module)\n",
    "Printout of model code should read:\n",
    "\"Model Type\"\n",
    "\"evaluation metric\" on Test: \"evaluation result\"\n"
   ]
  },
  {
   "cell_type": "code",
   "execution_count": null,
   "metadata": {},
   "outputs": [],
   "source": []
  },
  {
   "cell_type": "code",
   "execution_count": null,
   "metadata": {},
   "outputs": [],
   "source": []
  },
  {
   "attachments": {},
   "cell_type": "markdown",
   "metadata": {},
   "source": [
    "#### Modeling Wrap\n",
    "\n",
    "Give a final interpretation of how the models test score compares to the baseline and weather you would recommend this model for production\n",
    "Conclusion\n"
   ]
  },
  {
   "cell_type": "code",
   "execution_count": null,
   "metadata": {},
   "outputs": [],
   "source": []
  },
  {
   "cell_type": "code",
   "execution_count": null,
   "metadata": {},
   "outputs": [],
   "source": []
  },
  {
   "attachments": {},
   "cell_type": "markdown",
   "metadata": {},
   "source": [
    "#### Summary\n",
    "\n",
    "Summarize your findings and answer the questions you brought up in explore\n",
    "Summarize how drivers discovered lead or did not lead to a successful model\n"
   ]
  },
  {
   "cell_type": "code",
   "execution_count": null,
   "metadata": {},
   "outputs": [],
   "source": []
  },
  {
   "cell_type": "code",
   "execution_count": null,
   "metadata": {},
   "outputs": [],
   "source": []
  },
  {
   "attachments": {},
   "cell_type": "markdown",
   "metadata": {},
   "source": [
    "#### Recommendations\n",
    "\n",
    "Recommendations are actions the stakeholder should take based on your insights\n"
   ]
  },
  {
   "cell_type": "code",
   "execution_count": null,
   "metadata": {},
   "outputs": [],
   "source": []
  },
  {
   "cell_type": "code",
   "execution_count": null,
   "metadata": {},
   "outputs": [],
   "source": []
  },
  {
   "attachments": {},
   "cell_type": "markdown",
   "metadata": {},
   "source": [
    "#### Next Steps\n",
    "\n",
    "Next Steps are what you, as a Data Scientist, would do if provided more time to work on the project\n",
    "\n",
    "Where there is code in your report there should also be code comments telling the reader what each code block is doing. This is true for any and all code blocks even if you are using a function to import code from a module.\n",
    "\n",
    "\n",
    "\n",
    "**Your Notebook should contain adequate markdown that documents your thought process, decision making, and navigation through the pipeline. As a Data Scientist, your job does not end with making data discoveries. It includes effectively communicating those discoveries as well. This means documentation is a critical part of your job.**"
   ]
  },
  {
   "cell_type": "markdown",
   "metadata": {},
   "source": []
  }
 ],
 "metadata": {
  "kernelspec": {
   "display_name": "base",
   "language": "python",
   "name": "python3"
  },
  "language_info": {
   "codemirror_mode": {
    "name": "ipython",
    "version": 3
   },
   "file_extension": ".py",
   "mimetype": "text/x-python",
   "name": "python",
   "nbconvert_exporter": "python",
   "pygments_lexer": "ipython3",
   "version": "3.9.13"
  },
  "orig_nbformat": 4,
  "vscode": {
   "interpreter": {
    "hash": "38cca0c38332a56087b24af0bc80247f4fced29cb4f7f437d91dc159adec9c4e"
   }
  }
 },
 "nbformat": 4,
 "nbformat_minor": 2
}
